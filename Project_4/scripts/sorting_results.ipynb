{
 "cells": [
  {
   "cell_type": "markdown",
   "id": "45346703",
   "metadata": {},
   "source": [
    "# Using PySpark"
   ]
  },
  {
   "cell_type": "code",
   "execution_count": 33,
   "id": "bde468c6",
   "metadata": {},
   "outputs": [
    {
     "data": {
      "text/html": [
       "<style>pre { white-space: pre !important; }</style>"
      ],
      "text/plain": [
       "<IPython.core.display.HTML object>"
      ]
     },
     "metadata": {},
     "output_type": "display_data"
    }
   ],
   "source": [
    "import pyspark.sql.functions as F\n",
    "import pyspark.sql.window as Window\n",
    "from IPython.core.display import HTML\n",
    "display(HTML(\"<style>pre { white-space: pre !important; }</style>\"))"
   ]
  },
  {
   "cell_type": "code",
   "execution_count": 34,
   "id": "9326d19e",
   "metadata": {},
   "outputs": [],
   "source": [
    "for language in ['en', 'es', 'fr']:\n",
    "    output = open(f'.././wordle_env/results/{language}.csv', 'w')\n",
    "    with open(f\".././wordle_env/results/{language}.txt\", 'r') as file:\n",
    "        for line in file:\n",
    "            output.write(line)\n",
    "    output.close()"
   ]
  },
  {
   "cell_type": "code",
   "execution_count": 35,
   "id": "25919a05",
   "metadata": {},
   "outputs": [],
   "source": [
    "english = spark.read.csv('.././wordle_env/results/en.csv', \n",
    "                      inferSchema=True, \n",
    "                      header=False)\n",
    "spanish = spark.read.csv('.././wordle_env/results/es.csv', \n",
    "                      inferSchema=True, \n",
    "                      header=False)\n",
    "french = spark.read.csv('.././wordle_env/results/fr.csv', \n",
    "                      inferSchema=True, \n",
    "                      header=False)"
   ]
  },
  {
   "cell_type": "code",
   "execution_count": 42,
   "id": "6398bb63",
   "metadata": {},
   "outputs": [],
   "source": [
    "(english\n",
    " .select(F.col('_c0').alias('words'))\n",
    " .groupBy('words')\n",
    " .count().alias('total')\n",
    " .orderBy('count', ascending=False)\n",
    ").write.csv('.././wordle_env/results/sorted_english')"
   ]
  },
  {
   "cell_type": "code",
   "execution_count": 43,
   "id": "c423d8eb",
   "metadata": {},
   "outputs": [],
   "source": [
    "(spanish\n",
    " .select(F.col('_c0').alias('words'))\n",
    " .groupBy('words')\n",
    " .count().alias('total')\n",
    " .orderBy('count', ascending=False)\n",
    ").write.csv('.././wordle_env/results/sorted_spanish')"
   ]
  },
  {
   "cell_type": "code",
   "execution_count": 44,
   "id": "98742a75",
   "metadata": {},
   "outputs": [],
   "source": [
    "(french\n",
    " .select(F.col('_c0').alias('words'))\n",
    " .groupBy('words')\n",
    " .count().alias('total')\n",
    " .orderBy('count', ascending=False)\n",
    ").write.csv('.././wordle_env/results/sorted_french')"
   ]
  },
  {
   "cell_type": "code",
   "execution_count": null,
   "id": "eafdb1ff",
   "metadata": {},
   "outputs": [],
   "source": []
  }
 ],
 "metadata": {
  "kernelspec": {
   "display_name": "Python 3 (ipykernel)",
   "language": "python",
   "name": "python3"
  },
  "language_info": {
   "codemirror_mode": {
    "name": "ipython",
    "version": 3
   },
   "file_extension": ".py",
   "mimetype": "text/x-python",
   "name": "python",
   "nbconvert_exporter": "python",
   "pygments_lexer": "ipython3",
   "version": "3.9.7"
  }
 },
 "nbformat": 4,
 "nbformat_minor": 5
}
